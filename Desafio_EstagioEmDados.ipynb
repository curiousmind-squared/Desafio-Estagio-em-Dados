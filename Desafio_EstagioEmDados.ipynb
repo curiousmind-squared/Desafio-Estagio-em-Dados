{
 "cells": [
  {
   "cell_type": "markdown",
   "metadata": {},
   "source": [
    "### Como executar o código do zero"
   ]
  },
  {
   "cell_type": "markdown",
   "metadata": {},
   "source": [
    "Para executar o código, apenas clique em 'Cell'(ou 'Runtime'), e depois 'Run All'\n",
    "\n",
    "certifique-se de que os arquivos .csv estão no mesmo diretório do jupyter notebook\n",
    "\n",
    "Link para download dos arquivos .csv:\n",
    "    \n",
    "[movies.csv](https://drive.google.com/file/d/1gLsCjaMrL91ECdThq58cZAzB9tPxG18g/view?usp=sharing)\n",
    "    \n",
    "[customers_rating.csv](https://drive.google.com/file/d/1C_T1w8fc7Oa8MeTo4LMTEcv90IfEOS-6/view?usp=sharing)"
   ]
  },
  {
   "cell_type": "code",
   "execution_count": 1,
   "metadata": {},
   "outputs": [],
   "source": [
    "import pandas as pd"
   ]
  },
  {
   "cell_type": "code",
   "execution_count": 2,
   "metadata": {},
   "outputs": [],
   "source": [
    "rdf = pd.read_csv(\"customers_rating.csv\", sep=\";\") # Ratings DataFrame\n",
    "rdf[\"Date\"] = pd.to_datetime(rdf[\"Date\"]) # Objetos do tipo Datetime do python"
   ]
  },
  {
   "cell_type": "code",
   "execution_count": 3,
   "metadata": {},
   "outputs": [
    {
     "name": "stdout",
     "output_type": "stream",
     "text": [
      "\n"
     ]
    }
   ],
   "source": [
    "# Para o \"movies.csv\" dataset vamos alterar algumas coisas\n",
    "mdf = pd.read_csv(\"movies.csv\", sep=\";\", names=[\"Movie_Id\", \"Movies/Year\"]) # Movies DataFrame\n",
    "mdf = mdf.set_index(\"Movie_Id\") # Id de cada filme será o index\n",
    "\n",
    "mnames = [] # movie names == nome dos filmes\n",
    "years = [] # Ano \n",
    "\n",
    "for item in mdf[\"Movies/Year\"]: # Iteramos sobre a coluna 'Movies/Year'\n",
    "    tmp = item.split(\",\") # Separamos cada elemento em uma lista com o primeiro elemento == filme e o segundo == Ano\n",
    "    \n",
    "    mnames.append(tmp[0].replace(\"(\", \"\")) # 'replace' apenas para retirar os parentesis\n",
    "    years.append(tmp[1].replace(\")\", \"\"))\n",
    "\n",
    "mdf[\"Movies\"] = mnames\n",
    "mdf[\"Year\"] = years\n",
    "\n",
    "mdf.drop(\"Movies/Year\", axis=1, inplace=True) # Retira a coluna agora inútil\n",
    "mdf[\"Year\"].astype('int') # Converte os anos para inteiros\n",
    "print()"
   ]
  },
  {
   "cell_type": "markdown",
   "metadata": {},
   "source": [
    "### Quantos filmes estão disponíveis no dataset?"
   ]
  },
  {
   "cell_type": "markdown",
   "metadata": {},
   "source": [
    "Para isso iremos usar '.shape', que retorna as dimensões. Estamos interessados na quantidade de linhas, que representa a quantidade de filmes"
   ]
  },
  {
   "cell_type": "code",
   "execution_count": 4,
   "metadata": {},
   "outputs": [
    {
     "data": {
      "text/plain": [
       "4499"
      ]
     },
     "execution_count": 4,
     "metadata": {},
     "output_type": "execute_result"
    }
   ],
   "source": [
    "mdf.shape[0]"
   ]
  },
  {
   "cell_type": "markdown",
   "metadata": {},
   "source": [
    "4499 filmes"
   ]
  },
  {
   "cell_type": "markdown",
   "metadata": {},
   "source": [
    "### Qual o nome dos 5 filmes com melhor média de avaliação?"
   ]
  },
  {
   "cell_type": "code",
   "execution_count": 5,
   "metadata": {},
   "outputs": [
    {
     "data": {
      "text/plain": [
       "Movie_Id\n",
       "3456    4.670989\n",
       "3033    4.586364\n",
       "2102    4.581296\n",
       "4238    4.554434\n",
       "13      4.552000\n",
       "Name: Rating, dtype: float64"
      ]
     },
     "execution_count": 5,
     "metadata": {},
     "output_type": "execute_result"
    }
   ],
   "source": [
    "# 'groupby' nos permite realizar operações em um conjunto de dados, nesse caso na coluna com as notas(Rating) em que\n",
    "# aplicamos a média com mean e depois sorteamos os valores em ordem decrescente\n",
    "rdf.groupby(['Movie_Id']).Rating.mean().sort_values(ascending=False)[:5]"
   ]
  },
  {
   "cell_type": "code",
   "execution_count": 6,
   "metadata": {},
   "outputs": [
    {
     "name": "stdout",
     "output_type": "stream",
     "text": [
      "Lost: Season 1\n",
      "Ghost in the Shell: Stand Alone Complex: 2nd Gig\n",
      "The Simpsons: Season 6\n",
      "Inu-Yasha\n",
      "Lord of the Rings: The Return of the King: Extended Edition: Bonus Material\n"
     ]
    }
   ],
   "source": [
    "# loc para encontrar os filmes\n",
    "print(mdf.loc[3456].Movies)\n",
    "print(mdf.loc[3033].Movies)\n",
    "print(mdf.loc[2102].Movies)\n",
    "print(mdf.loc[4238].Movies)\n",
    "print(mdf.loc[13].Movies)"
   ]
  },
  {
   "cell_type": "markdown",
   "metadata": {},
   "source": [
    "### Quais os 5 anos com menos lançamentos de filmes?"
   ]
  },
  {
   "cell_type": "code",
   "execution_count": 7,
   "metadata": {},
   "outputs": [
    {
     "data": {
      "text/plain": [
       " 1926    1\n",
       " 1915    1\n",
       " 1922    1\n",
       " 1917    1\n",
       " 1929    2\n",
       "Name: Year, dtype: int64"
      ]
     },
     "execution_count": 7,
     "metadata": {},
     "output_type": "execute_result"
    }
   ],
   "source": [
    "mdf.Year.value_counts().sort_values(ascending=True)[:5]"
   ]
  },
  {
   "cell_type": "markdown",
   "metadata": {},
   "source": [
    "### Quantos filmes que possuem avaliação maior ou igual a 4.7, considerando apenas os filmes avaliados na última data de avaliação do dataset?"
   ]
  },
  {
   "cell_type": "markdown",
   "metadata": {},
   "source": [
    "Quando foi a última data de avaliação do dataset?"
   ]
  },
  {
   "cell_type": "code",
   "execution_count": 8,
   "metadata": {},
   "outputs": [
    {
     "data": {
      "text/plain": [
       "10916395   2005-12-31\n",
       "Name: Date, dtype: datetime64[ns]"
      ]
     },
     "execution_count": 8,
     "metadata": {},
     "output_type": "execute_result"
    }
   ],
   "source": [
    "rdf[\"Date\"].sort_values(ascending=False)[:1]"
   ]
  },
  {
   "cell_type": "code",
   "execution_count": 9,
   "metadata": {},
   "outputs": [],
   "source": [
    "date = \"2005-12-31\"\n",
    "date = pd.to_datetime(date)\n",
    "lrdf = rdf[rdf[\"Date\"] == date] # Uma vez encontrada a data da ultima atualização, vamos separar uma variavel apenas\n",
    "                                # com os valores que respeitam essa data"
   ]
  },
  {
   "cell_type": "code",
   "execution_count": 10,
   "metadata": {},
   "outputs": [],
   "source": [
    "lrdf = lrdf.groupby(['Movie_Id']).Rating.mean().sort_values(ascending=False)"
   ]
  },
  {
   "cell_type": "code",
   "execution_count": 11,
   "metadata": {},
   "outputs": [
    {
     "data": {
      "text/plain": [
       "195"
      ]
     },
     "execution_count": 11,
     "metadata": {},
     "output_type": "execute_result"
    }
   ],
   "source": [
    "len(lrdf[lrdf>=4.7]) # Agora vemos quais os valores são maiores ou iguais a 4.7"
   ]
  },
  {
   "cell_type": "markdown",
   "metadata": {},
   "source": [
    "### Quais os id's dos 5 customers que mais avaliaram filmes e quantas avaliações cada um fez?"
   ]
  },
  {
   "cell_type": "code",
   "execution_count": 12,
   "metadata": {},
   "outputs": [
    {
     "data": {
      "text/plain": [
       "305344     4467\n",
       "387418     4422\n",
       "2439493    4195\n",
       "1664010    4019\n",
       "2118461    3769\n",
       "Name: Cust_Id, dtype: int64"
      ]
     },
     "execution_count": 12,
     "metadata": {},
     "output_type": "execute_result"
    }
   ],
   "source": [
    "rdf.Cust_Id.value_counts()[:5]"
   ]
  },
  {
   "cell_type": "markdown",
   "metadata": {},
   "source": [
    "# FIM"
   ]
  }
 ],
 "metadata": {
  "kernelspec": {
   "display_name": "Python 3",
   "language": "python",
   "name": "python3"
  },
  "language_info": {
   "codemirror_mode": {
    "name": "ipython",
    "version": 3
   },
   "file_extension": ".py",
   "mimetype": "text/x-python",
   "name": "python",
   "nbconvert_exporter": "python",
   "pygments_lexer": "ipython3",
   "version": "3.8.3"
  }
 },
 "nbformat": 4,
 "nbformat_minor": 4
}
